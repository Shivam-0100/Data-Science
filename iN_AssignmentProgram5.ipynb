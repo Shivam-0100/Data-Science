{
 "cells": [
  {
   "cell_type": "markdown",
   "metadata": {},
   "source": [
    "1. Write a Python Program to Find LCM?\n",
    "2. Write a Python Program to Find HCF?\n",
    "3. Write a Python Program to Convert Decimal to Binary, Octal and Hexadecimal?\n",
    "4. Write a Python Program To Find ASCII value of a character?\n",
    "5. Write a Python Program to Make a Simple Calculator with 4 basic mathematical operations?"
   ]
  },
  {
   "cell_type": "code",
   "execution_count": 15,
   "metadata": {},
   "outputs": [
    {
     "name": "stdout",
     "output_type": "stream",
     "text": [
      "LCM is : 25\n"
     ]
    }
   ],
   "source": [
    "#-->1]\n",
    "a=int(input(\"Enter first number :\"))\n",
    "b=int(input(\"Enter second number :\"))\n",
    "for i in range(1,(a*b)+1):\n",
    "    if i%a==0 and i%b==0 :\n",
    "        print(f\"LCM is : {i}\")\n",
    "        break"
   ]
  },
  {
   "cell_type": "code",
   "execution_count": 6,
   "metadata": {},
   "outputs": [
    {
     "name": "stdout",
     "output_type": "stream",
     "text": [
      "HCF is 5\n"
     ]
    }
   ],
   "source": [
    "#-->2]\n",
    "temp=0\n",
    "a=int(input(\"Enter first number :\"))\n",
    "b=int(input(\"Enter second number :\"))\n",
    "c=0\n",
    "if (a>b):\n",
    "    i=a\n",
    "elif (b>a):\n",
    "    i=b\n",
    "else:\n",
    "    i=a\n",
    "\n",
    "for i in range (1,i):\n",
    "    if (a%i==0 and b%i==0):\n",
    "        temp=i\n",
    "print(f\"HCF is {temp}\")\n",
    "     "
   ]
  },
  {
   "cell_type": "code",
   "execution_count": 37,
   "metadata": {},
   "outputs": [
    {
     "name": "stdout",
     "output_type": "stream",
     "text": [
      "Binary form is :\n",
      "[1, 1, 1, 1, 0, 1, 1, 0, 1, 0, 0]\n",
      "Octal form is :\n",
      "[3, 6, 6, 4]\n",
      "Octal form is :\n",
      "[7, 'B', 4]\n"
     ]
    }
   ],
   "source": [
    "#-->3]\n",
    "num = int(input(\"Enter a number to be converted : \"))\n",
    "temp=num\n",
    "\n",
    "l=[]\n",
    "while(num>0):\n",
    "    a=int(num/2)\n",
    "    r=int(num%2)\n",
    "    l.append(r)\n",
    "    num=a\n",
    "l.reverse()\n",
    "print(\"Binary form is :\")\n",
    "print(l)\n",
    "\n",
    "num=temp\n",
    "l=[]\n",
    "while(num>0):\n",
    "    a=int(num/8)\n",
    "    r=int(num%8)\n",
    "    l.append(r)\n",
    "    num=a\n",
    "l.reverse()\n",
    "print(\"Octal form is :\")\n",
    "print (l)\n",
    "\n",
    "num=temp\n",
    "l=[]\n",
    "while(num>0):\n",
    "    a=int(num/16)\n",
    "    r=int(num%16)\n",
    "    if(r==10):\n",
    "        r=\"A\"\n",
    "    elif(r==11):\n",
    "        r=\"B\"\n",
    "    elif(r==12):\n",
    "        r=\"C\"\n",
    "    elif(r==13):\n",
    "        r=\"D\"\n",
    "    elif(r==14):\n",
    "        r=\"E\"\n",
    "    elif(r==15):\n",
    "        r=\"F\"\n",
    "    l.append(r)\n",
    "    num=a\n",
    "l.reverse()\n",
    "print(\"Octal form is :\")\n",
    "print (l)\n"
   ]
  },
  {
   "cell_type": "code",
   "execution_count": 39,
   "metadata": {},
   "outputs": [
    {
     "name": "stdout",
     "output_type": "stream",
     "text": [
      "The ASCII value of '5' is  53\n"
     ]
    }
   ],
   "source": [
    "#-->4]\n",
    "a = input(\"Please enter a character: \")    \n",
    "print (\"The ASCII value of '\" + a + \"' is \", ord(a))  "
   ]
  },
  {
   "cell_type": "code",
   "execution_count": 7,
   "metadata": {},
   "outputs": [
    {
     "name": "stdout",
     "output_type": "stream",
     "text": [
      "**CALCULATOR**\n",
      "LIST\n",
      "1]Addition\n",
      "2]Subtraction\n",
      "3]Multiplication\n",
      "4]Division\n",
      "Enter two numbers :\n",
      "Division is : 6/3 = 2.0\n"
     ]
    }
   ],
   "source": [
    "#-->5]\n",
    "print(\"**CALCULATOR**\")\n",
    "print(\"\"\"LIST\n",
    "1]Addition\n",
    "2]Subtraction\n",
    "3]Multiplication\n",
    "4]Division\"\"\")\n",
    "c=int(input(\"Enter Choice\"))\n",
    "print(\"Enter two numbers :\")\n",
    "a=int(input())\n",
    "b=int(input())\n",
    "if c==1:\n",
    "    print(f\"Addition is : {a}+{b} = {a+b}\")\n",
    "elif c==2:\n",
    "    print(f\"Subtraction is : {a}-{b} = {a-b}\")\n",
    "elif c==3:\n",
    "    print(f\"Multiplication is : {a}*{b}= {a*b}\")\n",
    "elif c==4:\n",
    "    print(f\"Division is : {a}/{b} = {a/b}\")\n"
   ]
  }
 ],
 "metadata": {
  "kernelspec": {
   "display_name": "Python 3.10.1 64-bit",
   "language": "python",
   "name": "python3"
  },
  "language_info": {
   "codemirror_mode": {
    "name": "ipython",
    "version": 3
   },
   "file_extension": ".py",
   "mimetype": "text/x-python",
   "name": "python",
   "nbconvert_exporter": "python",
   "pygments_lexer": "ipython3",
   "version": "3.10.1"
  },
  "orig_nbformat": 4,
  "vscode": {
   "interpreter": {
    "hash": "27f6fea6f47ae512550f0b8facdbd035a93e1dd89633f7bf2dd00a2502c71d0d"
   }
  }
 },
 "nbformat": 4,
 "nbformat_minor": 2
}
