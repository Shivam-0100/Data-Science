{
  "cells": [
    {
      "cell_type": "code",
      "execution_count": 11,
      "metadata": {
        "colab": {
          "base_uri": "https://localhost:8080/"
        },
        "id": "rMrlb660gTnv",
        "outputId": "b2f52385-478c-40b8-d73b-005f98092376"
      },
      "outputs": [
        {
          "name": "stdout",
          "output_type": "stream",
          "text": [
            "Enter a word: outstanding\n",
            "ou... ou... outstanding?\n"
          ]
        }
      ],
      "source": [
        "#-->1\n",
        "def stutter():\n",
        "    word = input(\"Enter a word: \")\n",
        "    stuttered = word[:2] + \"... \"\n",
        "    stuttered += word[:2] + \"... \"\n",
        "    stuttered += word + \"?\"\n",
        "    return stuttered\n",
        "\n",
        "print(stutter())\n"
      ]
    },
    {
      "cell_type": "code",
      "execution_count": 12,
      "metadata": {
        "colab": {
          "base_uri": "https://localhost:8080/"
        },
        "id": "iLsvUTY1gbej",
        "outputId": "38f60e6f-9a63-4b20-c201-e68c83922efa"
      },
      "outputs": [
        {
          "name": "stdout",
          "output_type": "stream",
          "text": [
            "Enter an angle in radians: 1.5\n",
            "85.9\n"
          ]
        }
      ],
      "source": [
        "#-->2\n",
        "import math\n",
        "\n",
        "def radians_to_degrees():\n",
        "    rad = float(input(\"Enter an angle in radians: \"))\n",
        "    deg = math.degrees(rad)\n",
        "    return round(deg, 1)\n",
        "\n",
        "print(radians_to_degrees())\n"
      ]
    },
    {
      "cell_type": "code",
      "execution_count": 14,
      "metadata": {
        "colab": {
          "base_uri": "https://localhost:8080/"
        },
        "id": "6TBbUEGvheTy",
        "outputId": "7a8305fa-e1bc-4401-b2fe-8643ff91cfd2"
      },
      "outputs": [
        {
          "name": "stdout",
          "output_type": "stream",
          "text": [
            "Enter a non-negative integer: 5\n",
            "True\n"
          ]
        }
      ],
      "source": [
        "#-->3\n",
        "def is_curzon():\n",
        "    num = int(input(\"Enter a non-negative integer: \"))\n",
        "    numerator = 2 ** num + 1\n",
        "    denominator = 2 * num + 1\n",
        "    if numerator % denominator == 0:\n",
        "        return True\n",
        "    else:\n",
        "        return False\n",
        "\n",
        "print(is_curzon())\n"
      ]
    },
    {
      "cell_type": "code",
      "execution_count": 15,
      "metadata": {
        "colab": {
          "base_uri": "https://localhost:8080/"
        },
        "id": "ciQfZps5ie-v",
        "outputId": "3cf8e446-8c9e-4cd1-a2f7-d52eaf56e597"
      },
      "outputs": [
        {
          "name": "stdout",
          "output_type": "stream",
          "text": [
            "Enter the side length of the hexagon: 4\n",
            "41.6\n"
          ]
        }
      ],
      "source": [
        "#-->4\n",
        "import math\n",
        "\n",
        "def area_of_hexagon():\n",
        "    x = float(input(\"Enter the side length of the hexagon: \"))\n",
        "    area = 3 * math.sqrt(3) * x ** 2 / 2\n",
        "    return round(area, 1)\n",
        "\n",
        "print(area_of_hexagon())\n"
      ]
    }
  ],
  "metadata": {
    "colab": {
      "provenance": []
    },
    "kernelspec": {
      "display_name": "Python 3",
      "name": "python3"
    },
    "language_info": {
      "name": "python"
    }
  },
  "nbformat": 4,
  "nbformat_minor": 0
}
